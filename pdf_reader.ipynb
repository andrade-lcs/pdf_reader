{
  "nbformat": 4,
  "nbformat_minor": 0,
  "metadata": {
    "kernelspec": {
      "display_name": "Python 3",
      "language": "python",
      "name": "python3"
    },
    "language_info": {
      "codemirror_mode": {
        "name": "ipython",
        "version": 3
      },
      "file_extension": ".py",
      "mimetype": "text/x-python",
      "name": "python",
      "nbconvert_exporter": "python",
      "pygments_lexer": "ipython3",
      "version": "3.8.5"
    },
    "colab": {
      "name": "pdf_reader.ipynb",
      "provenance": []
    }
  },
  "cells": [
    {
      "cell_type": "markdown",
      "metadata": {
        "id": "MDaZaaE7vBK9"
      },
      "source": [
        "Instalação da biblioteca"
      ]
    },
    {
      "cell_type": "code",
      "metadata": {
        "id": "HoKApuvsu_PX"
      },
      "source": [
        "!pip install pdfplumber"
      ],
      "execution_count": null,
      "outputs": []
    },
    {
      "cell_type": "markdown",
      "metadata": {
        "id": "H91zgzjzvH0b"
      },
      "source": [
        "Importação das bibliotecas utilizadas"
      ]
    },
    {
      "cell_type": "code",
      "metadata": {
        "id": "GEiBBZOIu_Pk"
      },
      "source": [
        "import re\n",
        "import pdfplumber\n",
        "import pandas as pd\n",
        "from collections import namedtuple"
      ],
      "execution_count": null,
      "outputs": []
    },
    {
      "cell_type": "markdown",
      "metadata": {
        "id": "si_fhIQNvLFy"
      },
      "source": [
        "Determinação do cabeçalho da tabela que será lida"
      ]
    },
    {
      "cell_type": "code",
      "metadata": {
        "id": "p2qC4a40u_Pl"
      },
      "source": [
        "line = namedtuple('line', '___')#'títulos das colunas que o scrip irá reconhecer no pdf com mesma formatação e separados por espaço, ex.: 'Nome Idade Cidade'"
      ],
      "execution_count": null,
      "outputs": []
    },
    {
      "cell_type": "markdown",
      "metadata": {
        "id": "zANtK1NIvTne"
      },
      "source": [
        "Determinação do formato de dado a ser lido"
      ]
    },
    {
      "cell_type": "code",
      "metadata": {
        "id": "8RFqpHqivSRP"
      },
      "source": [
        "line_re = re.compile(r'(___)')#utilizando regular exprecion configura a linha que o scrip irá ler, ex.: Se é numérico: [0-9]"
      ],
      "execution_count": null,
      "outputs": []
    },
    {
      "cell_type": "markdown",
      "metadata": {
        "id": "IqN4d225vZ1T"
      },
      "source": [
        "Importação do arquivo a ser lido"
      ]
    },
    {
      "cell_type": "code",
      "metadata": {
        "id": "itOHV7l6u_Pm"
      },
      "source": [
        "file = '___' #nome do arquivo com formato, se o arquivo estiver fora da pasta do projeto deverá se colocar o nome com caminho do arquivo ex.: 'C:\\Usuario\\Desktop\\arquivo.pdf'"
      ],
      "execution_count": null,
      "outputs": []
    },
    {
      "cell_type": "markdown",
      "metadata": {
        "id": "zMeHhY8GveG0"
      },
      "source": [
        "Leitura do arquivo pdf"
      ]
    },
    {
      "cell_type": "code",
      "metadata": {
        "id": "4-VQOQTKu_Pn"
      },
      "source": [
        "lines_df = [] #lista que irá receber os dados lidos\n",
        "c = 0 #contador\n",
        "\n",
        "with pdfplumber.open(file) as pdf: #comando para bilioteca ler o arquilo na variável 'file'\n",
        "    pages = pdf.pages\n",
        "    for page in pdf.pages: #comando para a biblioteca ler cada uma das páginas do arquivo\n",
        "        text = page.extract_text() #comando para extrair o conteúdo da página\n",
        "        c += 1 #incremento do contador para cada página lida\n",
        "        for line in text.split('\\n'): #separação do conteúdo lido por linhas\n",
        "            if line_re.search(line): #comando para identificação da linha configurada\n",
        "                items = line.split() #separação do conteúdo por espaço\n",
        "                lines_df.append(*items) #comando que adiciona os items a lista de dados"
      ],
      "execution_count": null,
      "outputs": []
    },
    {
      "cell_type": "markdown",
      "metadata": {
        "id": "0xTudbSHvjaT"
      },
      "source": [
        "Criação do dataframe"
      ]
    },
    {
      "cell_type": "code",
      "metadata": {
        "id": "LMA8pEquu_Pn"
      },
      "source": [
        "df = pd.DataFrame(lines_df)"
      ],
      "execution_count": null,
      "outputs": []
    },
    {
      "cell_type": "markdown",
      "metadata": {
        "id": "vz6NtnQpvmET"
      },
      "source": [
        "Visualização dos dados lidos do arquivo pdf"
      ]
    },
    {
      "cell_type": "code",
      "metadata": {
        "id": "JobAtC7iu_Po"
      },
      "source": [
        "df.head()"
      ],
      "execution_count": null,
      "outputs": []
    },
    {
      "cell_type": "markdown",
      "metadata": {
        "id": "8eAQyODLvpq5"
      },
      "source": [
        "Tratamento dos dados"
      ]
    },
    {
      "cell_type": "code",
      "metadata": {
        "id": "KuDrGFjLu_Pp"
      },
      "source": [
        "#aqui pode ser feito vários exercícios de tratamento e correção de dados lidos"
      ],
      "execution_count": null,
      "outputs": []
    },
    {
      "cell_type": "markdown",
      "metadata": {
        "id": "CZDyxG_wvvVy"
      },
      "source": [
        "salvar em .txt os dados lidos para ser acessado posteiormente de forma acessível ao pandas"
      ]
    },
    {
      "cell_type": "code",
      "metadata": {
        "id": "1nj7a1Kou_Pq"
      },
      "source": [
        "df.to_csv('dnit_fwd_2013.txt', sep=';', index=False, line_terminator='\\r\\n',encoding='utf-8')"
      ],
      "execution_count": null,
      "outputs": []
    }
  ]
}