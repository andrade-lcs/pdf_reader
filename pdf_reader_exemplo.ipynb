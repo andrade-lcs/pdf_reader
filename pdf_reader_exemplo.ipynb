{
  "nbformat": 4,
  "nbformat_minor": 0,
  "metadata": {
    "kernelspec": {
      "display_name": "Python 3",
      "language": "python",
      "name": "python3"
    },
    "language_info": {
      "codemirror_mode": {
        "name": "ipython",
        "version": 3
      },
      "file_extension": ".py",
      "mimetype": "text/x-python",
      "name": "python",
      "nbconvert_exporter": "python",
      "pygments_lexer": "ipython3",
      "version": "3.8.5"
    },
    "colab": {
      "name": "pdf_reader.ipynb",
      "provenance": []
    }
  },
  "cells": [
    {
      "cell_type": "markdown",
      "metadata": {
        "id": "MDaZaaE7vBK9"
      },
      "source": [
        "Instalação da biblioteca"
      ]
    },
    {
      "cell_type": "code",
      "metadata": {
        "id": "HoKApuvsu_PX",
        "outputId": "7b4d2dbd-bf37-4952-e3de-5839ffba4605",
        "colab": {
          "base_uri": "https://localhost:8080/"
        }
      },
      "source": [
        "!pip install pdfplumber"
      ],
      "execution_count": 1,
      "outputs": [
        {
          "output_type": "stream",
          "text": [
            "Requirement already satisfied: pdfplumber in /usr/local/lib/python3.7/dist-packages (0.5.28)\n",
            "Requirement already satisfied: Wand in /usr/local/lib/python3.7/dist-packages (from pdfplumber) (0.6.6)\n",
            "Requirement already satisfied: Pillow>=7.0.0 in /usr/local/lib/python3.7/dist-packages (from pdfplumber) (7.1.2)\n",
            "Requirement already satisfied: pdfminer.six==20200517 in /usr/local/lib/python3.7/dist-packages (from pdfplumber) (20200517)\n",
            "Requirement already satisfied: pycryptodome in /usr/local/lib/python3.7/dist-packages (from pdfminer.six==20200517->pdfplumber) (3.10.1)\n",
            "Requirement already satisfied: chardet; python_version > \"3.0\" in /usr/local/lib/python3.7/dist-packages (from pdfminer.six==20200517->pdfplumber) (3.0.4)\n",
            "Requirement already satisfied: sortedcontainers in /usr/local/lib/python3.7/dist-packages (from pdfminer.six==20200517->pdfplumber) (2.4.0)\n"
          ],
          "name": "stdout"
        }
      ]
    },
    {
      "cell_type": "markdown",
      "metadata": {
        "id": "H91zgzjzvH0b"
      },
      "source": [
        "Importação das bibliotecas utilizadas"
      ]
    },
    {
      "cell_type": "code",
      "metadata": {
        "id": "GEiBBZOIu_Pk"
      },
      "source": [
        "import re\n",
        "import pdfplumber\n",
        "import pandas as pd\n",
        "from collections import namedtuple"
      ],
      "execution_count": 2,
      "outputs": []
    },
    {
      "cell_type": "markdown",
      "metadata": {
        "id": "si_fhIQNvLFy"
      },
      "source": [
        "Determinação do cabeçalho da tabela que será lida"
      ]
    },
    {
      "cell_type": "code",
      "metadata": {
        "id": "p2qC4a40u_Pl"
      },
      "source": [
        "Line = namedtuple('line', 'UA BR UnidadeFederal Km1 Inicial Km2 Final EstruturaHDM4 TipodeSuperfície Clima1 clima2 clima3  Intervalode Deflexao') #'títulos das colunas que o scrip irá reconhecer no pdf com mesma formatação e separados por espaço, ex.: 'Nome Idade Cidade'"
      ],
      "execution_count": 3,
      "outputs": []
    },
    {
      "cell_type": "markdown",
      "metadata": {
        "id": "zANtK1NIvTne"
      },
      "source": [
        "Determinação do formato de dado a ser lido"
      ]
    },
    {
      "cell_type": "code",
      "metadata": {
        "id": "8RFqpHqivSRP"
      },
      "source": [
        "line_re = re.compile(r'\\+') #utilizando regular expression para configurar a linha que o scrip irá ler, ex.: Se é numérico: [0-9]"
      ],
      "execution_count": 4,
      "outputs": []
    },
    {
      "cell_type": "markdown",
      "metadata": {
        "id": "IqN4d225vZ1T"
      },
      "source": [
        "Importação do arquivo a ser lido"
      ]
    },
    {
      "cell_type": "code",
      "metadata": {
        "id": "itOHV7l6u_Pm"
      },
      "source": [
        "file = 'Relatório Final.pdf' #nome do arquivo com formato, se o arquivo estiver fora da pasta do projeto deverá se colocar o nome com caminho do arquivo ex.: 'C:\\Usuario\\Desktop\\arquivo.pdf'"
      ],
      "execution_count": 5,
      "outputs": []
    },
    {
      "cell_type": "markdown",
      "metadata": {
        "id": "zMeHhY8GveG0"
      },
      "source": [
        "Leitura do arquivo pdf"
      ]
    },
    {
      "cell_type": "code",
      "metadata": {
        "id": "1LL_J1uhx0MH"
      },
      "source": [
        "lines_df = [] #lista que irá receber os dados lidos\n",
        "c = 0 #contador\n",
        "\n",
        "with pdfplumber.open(file) as pdf: #comando para biblioteca ler o arquivo na variável 'file'\n",
        "    for page in pdf.pages[116:118]: #comando para a biblioteca ler cada uma das páginas do arquivo\n",
        "        text = page.extract_text() #comando para extrair o conteúdo da página\n",
        "        c += 1 #incremento do contador para cada página lida\n",
        "        for line in text.split('\\n'): #separação do conteúdo lido por linhas\n",
        "            if line_re.search(line): #comando para identificação da linha configurada\n",
        "                items = line.split() #separação do conteúdo por espaço\n",
        "                while len(items) < 14:\n",
        "                    items.append('NaN')\n",
        "                lines_df.append(Line(*items)) #comando que adiciona os items a lista de dados"
      ],
      "execution_count": 6,
      "outputs": []
    },
    {
      "cell_type": "markdown",
      "metadata": {
        "id": "0xTudbSHvjaT"
      },
      "source": [
        "Criação do dataframe"
      ]
    },
    {
      "cell_type": "code",
      "metadata": {
        "id": "LMA8pEquu_Pn"
      },
      "source": [
        "df = pd.DataFrame(lines_df)"
      ],
      "execution_count": 7,
      "outputs": []
    },
    {
      "cell_type": "markdown",
      "metadata": {
        "id": "vz6NtnQpvmET"
      },
      "source": [
        "Visualização dos dados lidos do arquivo pdf"
      ]
    },
    {
      "cell_type": "code",
      "metadata": {
        "id": "JobAtC7iu_Po",
        "outputId": "f4a30121-d778-496b-9fb7-97ad7473fbfd",
        "colab": {
          "base_uri": "https://localhost:8080/",
          "height": 193
        }
      },
      "source": [
        "df.describe()"
      ],
      "execution_count": 8,
      "outputs": [
        {
          "output_type": "execute_result",
          "data": {
            "text/html": [
              "<div>\n",
              "<style scoped>\n",
              "    .dataframe tbody tr th:only-of-type {\n",
              "        vertical-align: middle;\n",
              "    }\n",
              "\n",
              "    .dataframe tbody tr th {\n",
              "        vertical-align: top;\n",
              "    }\n",
              "\n",
              "    .dataframe thead th {\n",
              "        text-align: right;\n",
              "    }\n",
              "</style>\n",
              "<table border=\"1\" class=\"dataframe\">\n",
              "  <thead>\n",
              "    <tr style=\"text-align: right;\">\n",
              "      <th></th>\n",
              "      <th>UA</th>\n",
              "      <th>BR</th>\n",
              "      <th>UnidadeFederal</th>\n",
              "      <th>Km1</th>\n",
              "      <th>Inicial</th>\n",
              "      <th>Km2</th>\n",
              "      <th>Final</th>\n",
              "      <th>EstruturaHDM4</th>\n",
              "      <th>TipodeSuperfície</th>\n",
              "      <th>Clima1</th>\n",
              "      <th>clima2</th>\n",
              "      <th>clima3</th>\n",
              "      <th>Intervalode</th>\n",
              "      <th>Deflexao</th>\n",
              "    </tr>\n",
              "  </thead>\n",
              "  <tbody>\n",
              "    <tr>\n",
              "      <th>count</th>\n",
              "      <td>51</td>\n",
              "      <td>51</td>\n",
              "      <td>51</td>\n",
              "      <td>51</td>\n",
              "      <td>51</td>\n",
              "      <td>51</td>\n",
              "      <td>51</td>\n",
              "      <td>51</td>\n",
              "      <td>51</td>\n",
              "      <td>51</td>\n",
              "      <td>51</td>\n",
              "      <td>51</td>\n",
              "      <td>51</td>\n",
              "      <td>51</td>\n",
              "    </tr>\n",
              "    <tr>\n",
              "      <th>unique</th>\n",
              "      <td>51</td>\n",
              "      <td>22</td>\n",
              "      <td>12</td>\n",
              "      <td>3</td>\n",
              "      <td>51</td>\n",
              "      <td>3</td>\n",
              "      <td>51</td>\n",
              "      <td>4</td>\n",
              "      <td>10</td>\n",
              "      <td>7</td>\n",
              "      <td>8</td>\n",
              "      <td>8</td>\n",
              "      <td>7</td>\n",
              "      <td>3</td>\n",
              "    </tr>\n",
              "    <tr>\n",
              "      <th>top</th>\n",
              "      <td>2</td>\n",
              "      <td>364</td>\n",
              "      <td>GO</td>\n",
              "      <td>Km</td>\n",
              "      <td>700+160</td>\n",
              "      <td>Km</td>\n",
              "      <td>409+100</td>\n",
              "      <td>BCAG</td>\n",
              "      <td>CBUQ</td>\n",
              "      <td>Tropical</td>\n",
              "      <td>Brasil</td>\n",
              "      <td>Central</td>\n",
              "      <td>NaN</td>\n",
              "      <td>NaN</td>\n",
              "    </tr>\n",
              "    <tr>\n",
              "      <th>freq</th>\n",
              "      <td>1</td>\n",
              "      <td>9</td>\n",
              "      <td>16</td>\n",
              "      <td>49</td>\n",
              "      <td>1</td>\n",
              "      <td>49</td>\n",
              "      <td>1</td>\n",
              "      <td>33</td>\n",
              "      <td>15</td>\n",
              "      <td>41</td>\n",
              "      <td>28</td>\n",
              "      <td>28</td>\n",
              "      <td>18</td>\n",
              "      <td>43</td>\n",
              "    </tr>\n",
              "  </tbody>\n",
              "</table>\n",
              "</div>"
            ],
            "text/plain": [
              "        UA   BR UnidadeFederal Km1  ...  clima2   clima3 Intervalode Deflexao\n",
              "count   51   51             51  51  ...      51       51          51       51\n",
              "unique  51   22             12   3  ...       8        8           7        3\n",
              "top      2  364             GO  Km  ...  Brasil  Central         NaN      NaN\n",
              "freq     1    9             16  49  ...      28       28          18       43\n",
              "\n",
              "[4 rows x 14 columns]"
            ]
          },
          "metadata": {
            "tags": []
          },
          "execution_count": 8
        }
      ]
    },
    {
      "cell_type": "code",
      "metadata": {
        "id": "ba5Yv65-zDS0",
        "outputId": "9de8ff7c-b7d8-405f-e916-8c942e92ab8b",
        "colab": {
          "base_uri": "https://localhost:8080/"
        }
      },
      "source": [
        "df.info()"
      ],
      "execution_count": 9,
      "outputs": [
        {
          "output_type": "stream",
          "text": [
            "<class 'pandas.core.frame.DataFrame'>\n",
            "RangeIndex: 51 entries, 0 to 50\n",
            "Data columns (total 14 columns):\n",
            " #   Column            Non-Null Count  Dtype \n",
            "---  ------            --------------  ----- \n",
            " 0   UA                51 non-null     object\n",
            " 1   BR                51 non-null     object\n",
            " 2   UnidadeFederal    51 non-null     object\n",
            " 3   Km1               51 non-null     object\n",
            " 4   Inicial           51 non-null     object\n",
            " 5   Km2               51 non-null     object\n",
            " 6   Final             51 non-null     object\n",
            " 7   EstruturaHDM4     51 non-null     object\n",
            " 8   TipodeSuperfície  51 non-null     object\n",
            " 9   Clima1            51 non-null     object\n",
            " 10  clima2            51 non-null     object\n",
            " 11  clima3            51 non-null     object\n",
            " 12  Intervalode       51 non-null     object\n",
            " 13  Deflexao          51 non-null     object\n",
            "dtypes: object(14)\n",
            "memory usage: 5.7+ KB\n"
          ],
          "name": "stdout"
        }
      ]
    },
    {
      "cell_type": "markdown",
      "metadata": {
        "id": "8eAQyODLvpq5"
      },
      "source": [
        "Tratamento dos dados"
      ]
    },
    {
      "cell_type": "code",
      "metadata": {
        "id": "KuDrGFjLu_Pp"
      },
      "source": [
        "#aqui pode ser feito vários exercícios de tratamento e correção de dados lidos"
      ],
      "execution_count": 10,
      "outputs": []
    },
    {
      "cell_type": "markdown",
      "metadata": {
        "id": "CZDyxG_wvvVy"
      },
      "source": [
        "Salvar no formato csv os dados lidos para ser acessado posteriormente de forma acessível ao pandas"
      ]
    },
    {
      "cell_type": "code",
      "metadata": {
        "id": "1nj7a1Kou_Pq"
      },
      "source": [
        "df.to_csv('dados.csv', sep=';', index=False, line_terminator='\\r\\n',encoding='utf-8') #inserir o nome do arquivo a ser criado"
      ],
      "execution_count": 11,
      "outputs": []
    }
  ]
}